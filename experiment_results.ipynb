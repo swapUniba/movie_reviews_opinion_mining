{
  "nbformat": 4,
  "nbformat_minor": 0,
  "metadata": {
    "colab": {
      "name": "experiment_results.ipynb",
      "provenance": [],
      "collapsed_sections": [
        "hNqFgebhWjkE",
        "YWSG4a8oKOyV",
        "Uu0ZrOsjIpHC"
      ]
    },
    "kernelspec": {
      "name": "python3",
      "display_name": "Python 3"
    },
    "language_info": {
      "name": "python"
    }
  },
  "cells": [
    {
      "cell_type": "markdown",
      "metadata": {
        "id": "AbrzwvePO518"
      },
      "source": [
        "# Setup"
      ]
    },
    {
      "cell_type": "code",
      "metadata": {
        "id": "yPa53nDCw6ae"
      },
      "source": [
        "%cd D:\\opimi_test\\ \n",
        "\n",
        "import pandas as pd\n",
        "import os\n",
        "import matplotlib.pyplot as plt\n",
        "from matplotlib.pyplot import figure"
      ],
      "execution_count": null,
      "outputs": []
    },
    {
      "cell_type": "markdown",
      "metadata": {
        "id": "JOm-HdQLO9Fg"
      },
      "source": [
        "# Utilities"
      ]
    },
    {
      "cell_type": "markdown",
      "metadata": {
        "id": "hNqFgebhWjkE"
      },
      "source": [
        "## Logs reading"
      ]
    },
    {
      "cell_type": "code",
      "metadata": {
        "id": "GvvX6c9pCAvt"
      },
      "source": [
        "def count_user_prefs(configuration):\n",
        "  path = os.path.join('results', configuration)\n",
        "  messages_df = pd.read_json(os.path.join(path, 'messages.json'))\n",
        "  messages_df.drop(messages_df[( (messages_df.userID == 299939018) | (messages_df.userID == 19371450) | (messages_df.userID == 184440200) | (messages_df.userID == 1188508175) )].index, inplace = True)\n",
        "  messages_df.drop(messages_df[(messages_df.recognizedObjects == '')].index, inplace=True)\n",
        "  messages_df['prefsCount'] = messages_df['recognizedObjects'].map(lambda x: x.count(\",\") + 1)\n",
        "  messages_df = messages_df.groupby(['userID'])['prefsCount'].sum().to_frame().reset_index()\n",
        "  messages_df[\"userID\"] = messages_df[\"userID\"].astype(str)\n",
        "  return messages_df\n",
        "\n",
        "def read_logs(configuration):\n",
        "  path = os.path.join('results', configuration)\n",
        "\n",
        "  answers_df = pd.read_csv(os.path.join(path, 'answers.csv'))\n",
        "  answers_df['user_id'] = answers_df['user_id'].astype(str)\n",
        "\n",
        "  recEntityData_df = pd.read_csv(os.path.join(path, 'recEntityData.csv'))\n",
        "  recEntityData_df['userID'] = recEntityData_df['userID'].astype(str)\n",
        "\n",
        "  userData_df = pd.read_csv(os.path.join(path, 'userData.csv'))\n",
        "  userData_df['userID'] = userData_df['userID'].astype(str)\n",
        "\n",
        "\n",
        "  prefs_number_df = count_user_prefs(configuration)\n",
        "\n",
        "\n",
        "  results_df = pd.merge(answers_df, recEntityData_df, left_on='user_id', right_on='userID')\n",
        "  results_df = pd.merge(results_df, userData_df, left_on='user_id', right_on='userID')\n",
        "  results_df = pd.merge(results_df, prefs_number_df, left_on='user_id', right_on='userID')\n",
        "  results_df.drop(results_df[( (results_df.userID == '299939018') | (results_df.userID == '19371450') | (results_df.userID == '184440200') | (results_df.userID == '1188508175') )].index, inplace = True)\n",
        "  \n",
        "  results_df.rename(columns = {'queryDensity (per preference messages)':'QueryDensity'}, inplace = True)\n",
        "  results_df.rename(columns = {'hitRate@1':'HitRate_1'}, inplace = True)\n",
        "  results_df.rename(columns = {'hitRate@2':'HitRate_2'}, inplace = True)\n",
        "  results_df.rename(columns = {'hitRate@3':'HitRate_3'}, inplace = True)\n",
        "  \n",
        "  results_df['totalHitRate'] = results_df['HitRate_1'] + results_df['HitRate_2'] + results_df['HitRate_3']\n",
        "  results_df['convLength'] = results_df['convLength'] - 1\n",
        "  results_df['control_mean'] = ((results_df['Q10'] + results_df['Q13'])/2)\n",
        "  results_df['int_adequacy_mean'] = ((results_df['Q11'] + results_df['Q17'] + results_df['Q21'] + results_df['Q23'])/4)\n",
        "  results_df['attitudes_mean'] = ((results_df['Q22'] + results_df['Q24'])/2)\n",
        "\n",
        "  # Clean Q20 answers\n",
        "  results_df.loc[results_df.totalHitRate == 3, 'Q20'] = 6\n",
        "  results_df.loc[(results_df.totalHitRate != 3) & (results_df.Q20 == 6), 'Q20'] = 3\n",
        "\n",
        "  results_df.loc[(results_df.HitRate_3 == 1), 'convLength'] = results_df['convLength'] - 1    # Remove the positive answer to successful recommendation message\n",
        "  results_df.loc[(results_df.HitRate_3 == 1), 'prefsCount'] = results_df['prefsCount'] - 1    # Remove the preference to the liked movie\n",
        "  \n",
        "\n",
        "  del results_df['numRecLists']\n",
        "  del results_df['numLikes']\n",
        "  del results_df['numRecEntities']\n",
        "  del results_df['numRecEntities (alt)']\n",
        "  del results_df['accuracy']\n",
        "  del results_df['accuracy (alt)']\n",
        "  del results_df['meanAveragePrecision']\n",
        "  del results_df['meanAveragePrecision (alt)']\n",
        "  del results_df['nDCG']\n",
        "  del results_df['numTrainQuestions']\n",
        "  del results_df['numRecQuestions']\n",
        "  del results_df['avgTimePerQuestion']\n",
        "  del results_df['totalInteractionTime']\n",
        "  del results_df['queryDensity']\n",
        "  del results_df['queryEfficiency']\n",
        "  del results_df['queryEfficiency (training)']\n",
        "  del results_df['avgSessionTime']\n",
        "  del results_df['skipRatio']\n",
        "  del results_df['likeRatio']\n",
        "  del results_df['dislikeRatio']\n",
        "  del results_df['fallbackRatio']\n",
        "  del results_df['avgSystemResponseTime']\n",
        "  del results_df['disambiguatioRatio']\n",
        "  del results_df['userID_x']\n",
        "  del results_df['userID_y']\n",
        "  del results_df['userID']\n",
        "\n",
        "\n",
        "  return results_df\n",
        "\n",
        "def hit_rate_perc(results_df, n):\n",
        "  seriesObj = results_df.apply(lambda x: True if x['totalHitRate'] == 3 else False , axis=1)\n",
        "  hr1 = len(seriesObj[seriesObj == True].index)\n",
        "  seriesObj = results_df.apply(lambda x: True if x['totalHitRate'] == 2 else False , axis=1)\n",
        "  hr2 = len(seriesObj[seriesObj == True].index)\n",
        "  seriesObj = results_df.apply(lambda x: True if x['totalHitRate'] == 1 else False , axis=1)\n",
        "  hr3 = len(seriesObj[seriesObj == True].index)\n",
        "  seriesObj = results_df.apply(lambda x: True if x['totalHitRate'] == 0 else False , axis=1)\n",
        "  no_hit = len(seriesObj[seriesObj == True].index)\n",
        "  return [hr1*100/n, hr2*100/n, hr3*100/n, no_hit*100/n]"
      ],
      "execution_count": null,
      "outputs": []
    },
    {
      "cell_type": "markdown",
      "metadata": {
        "id": "YWSG4a8oKOyV"
      },
      "source": [
        "## Plots"
      ]
    },
    {
      "cell_type": "code",
      "metadata": {
        "id": "HwfvYO3iKQ2i"
      },
      "source": [
        "def simple_bar_plot(data, labels, plot_title):\n",
        "  figure(figsize=(8, 6), dpi=80)\n",
        "  plt.barh(labels, data, color=['#4472C4'])\n",
        "  plt.title(plot_title, size=20)\n",
        "  for index, value in enumerate(data):\n",
        "      plt.text(value, index, str('%.2f' %value), size=20)\n",
        "  plt.yticks(size=16)\n",
        "  plt.gca().spines['right'].set_color('none')\n",
        "  plt.gca().spines['left'].set_color('none')\n",
        "  plt.gca().spines['top'].set_color('none')\n",
        "  plt.gca().spines['bottom'].set_color('none')\n",
        "  plt.gca().axes.xaxis.set_visible(False)\n",
        "  plt.show()\n",
        "\n",
        "def hit_rate_simple_plot(data, labels, k):\n",
        "  figure(figsize=(8, 6), dpi=80)\n",
        "  plt.barh(labels,data, color=['#4472C4'])\n",
        "  plt.title('HitRate@' + str(k), size=20)\n",
        "  plt.xlabel('% of successful recommendations at turn ' + str(k), size=18)\n",
        "  for index, value in enumerate(data):\n",
        "      plt.text(value, index, str('%.2f' %value), size=\"20\")\n",
        "  plt.gca().set_xlim([0,100])\n",
        "  plt.yticks(size=16)\n",
        "  plt.gca().spines['right'].set_color('none')\n",
        "  plt.gca().spines['top'].set_color('none')\n",
        "  plt.show()\n",
        "\n",
        "def questionnaire_barplot(question_number, question_title):\n",
        "  wiki_mean = (5 - wiki_results[question_number].mean()) + 1\n",
        "  aspects_mean = (5 - aspects_results[question_number].mean()) + 1\n",
        "  wikiaspects_mean = (5 - wikiaspects_results[question_number].mean()) + 1\n",
        "  mean_data = [wikiaspects_mean, aspects_mean, wiki_mean]\n",
        "\n",
        "  mean_labels = ['Wiki + Aspects', 'Aspects', 'Wiki']\n",
        "\n",
        "  x_labels = ['1 - Strongly Disagree', ' ', ' ', ' ', '5 - Strongly Agree']\n",
        "  \n",
        "  figure(figsize=(8, 6), dpi=80)\n",
        "  plt.barh(mean_labels,mean_data, color=['#4472C4'])\n",
        "  plt.title(question_title, size=20)\n",
        "  for index, value in enumerate(mean_data):\n",
        "      plt.text(value-0.5, index, str('%.2f' %value), size=\"20\", color='white')\n",
        "  plt.gca().set_xlim([1,5])\n",
        "  plt.xticks(ticks=range(1,6), labels=x_labels, rotation='horizontal', size=16)\n",
        "  plt.yticks(size=16)\n",
        "  plt.gca().spines['right'].set_color('none')\n",
        "  plt.gca().spines['top'].set_color('none')\n",
        "  plt.gca().spines['top'].set_color('none')\n",
        "  plt.show()"
      ],
      "execution_count": null,
      "outputs": []
    },
    {
      "cell_type": "markdown",
      "metadata": {
        "id": "Uu0ZrOsjIpHC"
      },
      "source": [
        "## Labels"
      ]
    },
    {
      "cell_type": "code",
      "metadata": {
        "id": "E3Fa1H-jTKuR"
      },
      "source": [
        "config_labels = ['Wiki','Aspects','Wiki + Aspects']\n",
        "hr_labels = ['@1','@2','@3','No Hit']"
      ],
      "execution_count": null,
      "outputs": []
    },
    {
      "cell_type": "markdown",
      "metadata": {
        "id": "Sjyd1SeQQyl_"
      },
      "source": [
        "# Data reading"
      ]
    },
    {
      "cell_type": "code",
      "metadata": {
        "id": "ftn_DS2Qx8ZN"
      },
      "source": [
        "# Complete results dataframes\n",
        "wiki_results = read_logs('wiki')\n",
        "aspects_results = read_logs('aspects')\n",
        "wikiaspects_results = read_logs('wikiaspects')\n",
        "\n",
        "# Fix values for user 715108529\n",
        "aspects_results.loc[(aspects_results.user_id == 715108529), 'prefsCount'] = 5\n",
        "aspects_results.loc[(aspects_results.user_id == 715108529), 'convLength'] = 11\n",
        "\n",
        "'''\n",
        "# Select restricted user group\n",
        "group_a = aspects_results.drop(aspects_results[( (aspects_results.Q7 == 4) | (aspects_results.Q7 == 5))].index)\n",
        "group_a_ids = group_a['user_id'].tolist()\n",
        "\n",
        "wiki_results = wiki_results[wiki_results.user_id.isin(group_a_ids)]\n",
        "aspects_results = aspects_results[aspects_results.user_id.isin(group_a_ids)]\n",
        "wikiaspects_results = wikiaspects_results[wikiaspects_results.user_id.isin(group_a_ids)]\n",
        "'''\n",
        "\n",
        "sample_size = len(wiki_results['user_id'])\n",
        "\n",
        "print(sample_size)"
      ],
      "execution_count": null,
      "outputs": []
    },
    {
      "cell_type": "markdown",
      "metadata": {
        "id": "ayoJAWInRZPA"
      },
      "source": [
        "# QueryDensity"
      ]
    },
    {
      "cell_type": "code",
      "metadata": {
        "id": "DqDJZ1VoXwMa"
      },
      "source": [
        "data = [wikiaspects_results.QueryDensity.mean(), aspects_results.QueryDensity.mean(), wiki_results.QueryDensity.mean()]\n",
        "config_labels = ['Wiki + Aspects', 'Aspects', 'Wiki']\n",
        "simple_bar_plot(data, config_labels, 'QueryDensity')"
      ],
      "execution_count": null,
      "outputs": []
    },
    {
      "cell_type": "markdown",
      "metadata": {
        "id": "WzHSpDuWRtfq"
      },
      "source": [
        "# Conversation Length"
      ]
    },
    {
      "cell_type": "code",
      "metadata": {
        "id": "KzT8-dQ-RwvY"
      },
      "source": [
        "data = [wiki_results.convLength.mean(), aspects_results.convLength.mean(), wikiaspects_results.convLength.mean()]\n",
        "\n",
        "simple_bar_plot(data, config_labels, 'Mean Conversation Length')"
      ],
      "execution_count": null,
      "outputs": []
    },
    {
      "cell_type": "markdown",
      "metadata": {
        "id": "TxAQmMKTZdWM"
      },
      "source": [
        "# Mean number of preferences"
      ]
    },
    {
      "cell_type": "code",
      "metadata": {
        "id": "CT2zGQKc8GK6"
      },
      "source": [
        "data = [wiki_results.prefsCount.mean(), aspects_results.prefsCount.mean(), wikiaspects_results.prefsCount.mean()]\n",
        "\n",
        "simple_bar_plot(data, config_labels, 'Mean number of preferences')"
      ],
      "execution_count": null,
      "outputs": []
    },
    {
      "cell_type": "markdown",
      "metadata": {
        "id": "RMP6MS3FSs-6"
      },
      "source": [
        "# HitRate@K"
      ]
    },
    {
      "cell_type": "markdown",
      "metadata": {
        "id": "8fZQSpkrWhzc"
      },
      "source": [
        "## HitRate@1 Comparison"
      ]
    },
    {
      "cell_type": "code",
      "metadata": {
        "id": "duvpiDDlWmg-"
      },
      "source": [
        "data = [hit_rate_perc(wiki_results, sample_size)[0], hit_rate_perc(aspects_results, sample_size)[0], hit_rate_perc(wikiaspects_results, sample_size)[0]]\n",
        "\n",
        "hit_rate_simple_plot(data, config_labels, 1)"
      ],
      "execution_count": null,
      "outputs": []
    },
    {
      "cell_type": "markdown",
      "metadata": {
        "id": "H-04a3T7Xped"
      },
      "source": [
        "## HitRate@2 Comparison"
      ]
    },
    {
      "cell_type": "code",
      "metadata": {
        "id": "c9GgxUofXpel"
      },
      "source": [
        "data = [hit_rate_perc(wiki_results, sample_size)[0]+hit_rate_perc(wiki_results, sample_size)[1], hit_rate_perc(aspects_results, sample_size)[0]+hit_rate_perc(aspects_results, sample_size)[1], hit_rate_perc(wikiaspects_results, sample_size)[0]+hit_rate_perc(wikiaspects_results, sample_size)[1]]\n",
        "\n",
        "hit_rate_simple_plot(data, config_labels, 2)"
      ],
      "execution_count": null,
      "outputs": []
    },
    {
      "cell_type": "markdown",
      "metadata": {
        "id": "ZW6gNpybYQfD"
      },
      "source": [
        "## HitRate@3 Comparison"
      ]
    },
    {
      "cell_type": "code",
      "metadata": {
        "id": "R1QgooHEYQfD"
      },
      "source": [
        "data = [hit_rate_perc(wiki_results, sample_size)[0]+hit_rate_perc(wiki_results, sample_size)[1]+hit_rate_perc(wiki_results, sample_size)[2], hit_rate_perc(aspects_results, sample_size)[0]+hit_rate_perc(aspects_results, sample_size)[1]+hit_rate_perc(aspects_results, sample_size)[2], hit_rate_perc(wikiaspects_results, sample_size)[0]+hit_rate_perc(wikiaspects_results, sample_size)[1]+hit_rate_perc(wikiaspects_results, sample_size)[2]]\n",
        "\n",
        "hit_rate_simple_plot(data, config_labels, 3)"
      ],
      "execution_count": null,
      "outputs": []
    },
    {
      "cell_type": "markdown",
      "metadata": {
        "id": "EfMzPBFJk2fP"
      },
      "source": [
        "# Questionnaire"
      ]
    },
    {
      "cell_type": "markdown",
      "metadata": {
        "id": "-tRyBIA_C6gE"
      },
      "source": [
        "## Demographics"
      ]
    },
    {
      "cell_type": "markdown",
      "metadata": {
        "id": "kzfBL5ltnQl8"
      },
      "source": [
        "### Gender"
      ]
    },
    {
      "cell_type": "code",
      "metadata": {
        "id": "bLpaoGrylTYP"
      },
      "source": [
        "seriesObj = wikiaspects_results.apply(lambda x: True if x['Q1'] == 1 else False , axis=1)\n",
        "males = len(seriesObj[seriesObj == True].index)\n",
        "seriesObj = wikiaspects_results.apply(lambda x: True if x['Q1'] == 2 else False , axis=1)\n",
        "females = len(seriesObj[seriesObj == True].index)\n",
        "\n",
        "data = [males, females]\n",
        "labels = ['Male','Female']\n",
        "\n",
        "figure(figsize=(8, 6), dpi=80)\n",
        "plt.pie(data,labels=labels,autopct='%1.1f%%', textprops={'fontsize': 18})\n",
        "plt.title('Users gender', y=1.1, size=20)\n",
        "plt.axis('equal')\n",
        "plt.show()"
      ],
      "execution_count": null,
      "outputs": []
    },
    {
      "cell_type": "markdown",
      "metadata": {
        "id": "GCACUuiInTBM"
      },
      "source": [
        "### Age group"
      ]
    },
    {
      "cell_type": "code",
      "metadata": {
        "id": "c2-FoD_PnUcb"
      },
      "source": [
        "seriesObj = wikiaspects_results.apply(lambda x: True if x['Q2'] == 2 else False , axis=1)\n",
        "a_21_30 = len(seriesObj[seriesObj == True].index)\n",
        "\n",
        "data = [a_21_30]\n",
        "labels = ['21-30']\n",
        "\n",
        "figure(figsize=(8, 6), dpi=80)\n",
        "plt.pie(data,labels=labels,autopct='%1.1f%%', textprops={'fontsize': 18})\n",
        "plt.title('Users age group', y=1.1, size=20)\n",
        "plt.axis('equal')\n",
        "plt.show()"
      ],
      "execution_count": null,
      "outputs": []
    },
    {
      "cell_type": "markdown",
      "metadata": {
        "id": "MR0bAxBr8yAR"
      },
      "source": [
        "### Education level"
      ]
    },
    {
      "cell_type": "code",
      "metadata": {
        "id": "sgWn6XLV90o2"
      },
      "source": [
        "seriesObj = wikiaspects_results.apply(lambda x: True if x['Q3'] == 2 else False , axis=1)\n",
        "high = len(seriesObj[seriesObj == True].index)\n",
        "seriesObj = wikiaspects_results.apply(lambda x: True if x['Q3'] == 3 else False , axis=1)\n",
        "college = len(seriesObj[seriesObj == True].index)\n",
        "seriesObj = wikiaspects_results.apply(lambda x: True if x['Q3'] == 4 else False , axis=1)\n",
        "graduate = len(seriesObj[seriesObj == True].index)\n",
        "\n",
        "data = [high, college, graduate]\n",
        "labels = ['High School', 'College', 'Graduate School']\n",
        "\n",
        "figure(figsize=(8, 6), dpi=80)\n",
        "plt.pie(data,labels=labels,autopct='%1.1f%%', textprops={'fontsize': 18})\n",
        "plt.title('Users education level', y=1.1, size=20)\n",
        "plt.axis('equal')\n",
        "plt.show()"
      ],
      "execution_count": null,
      "outputs": []
    },
    {
      "cell_type": "markdown",
      "metadata": {
        "id": "kClKMh4B-21r"
      },
      "source": [
        "### Current Employment"
      ]
    },
    {
      "cell_type": "code",
      "metadata": {
        "id": "t5pO178N-5yF"
      },
      "source": [
        "seriesObj = wikiaspects_results.apply(lambda x: True if x['Q4'] == 1 else False , axis=1)\n",
        "student = len(seriesObj[seriesObj == True].index)\n",
        "seriesObj = wikiaspects_results.apply(lambda x: True if x['Q4'] == 2 else False , axis=1)\n",
        "public = len(seriesObj[seriesObj == True].index)\n",
        "seriesObj = wikiaspects_results.apply(lambda x: True if x['Q4'] == 3 else False , axis=1)\n",
        "private = len(seriesObj[seriesObj == True].index)\n",
        "seriesObj = wikiaspects_results.apply(lambda x: True if x['Q4'] == 4 else False , axis=1)\n",
        "self = len(seriesObj[seriesObj == True].index)\n",
        "\n",
        "data = [student, public, private, self]\n",
        "labels = ['Student', 'Public Company Staff', 'Private Company Staff', 'Self Employed']\n",
        "\n",
        "figure(figsize=(8, 6), dpi=80)\n",
        "plt.pie(data,labels=labels,autopct='%1.1f%%', textprops={'fontsize': 18})\n",
        "plt.title('Users current employment', y=1.1, size=20)\n",
        "plt.axis('equal')\n",
        "plt.show()"
      ],
      "execution_count": null,
      "outputs": []
    },
    {
      "cell_type": "markdown",
      "metadata": {
        "id": "xe7T-auT_mwR"
      },
      "source": [
        "### Computer use level"
      ]
    },
    {
      "cell_type": "code",
      "metadata": {
        "id": "ai7fwa7q_ptk"
      },
      "source": [
        "seriesObj = wikiaspects_results.apply(lambda x: True if x['Q5'] == 1 else False , axis=1)\n",
        "no_exp = len(seriesObj[seriesObj == True].index)\n",
        "seriesObj = wikiaspects_results.apply(lambda x: True if x['Q5'] == 2 else False , axis=1)\n",
        "beginner = len(seriesObj[seriesObj == True].index)\n",
        "seriesObj = wikiaspects_results.apply(lambda x: True if x['Q5'] == 3 else False , axis=1)\n",
        "average = len(seriesObj[seriesObj == True].index)\n",
        "seriesObj = wikiaspects_results.apply(lambda x: True if x['Q5'] == 4 else False , axis=1)\n",
        "advanced = len(seriesObj[seriesObj == True].index)\n",
        "\n",
        "data = [no_exp, beginner, average, advanced]\n",
        "labels = ['No Experience', 'Beginner', 'Average', 'Advanced']\n",
        "\n",
        "figure(figsize=(8, 6), dpi=80)\n",
        "plt.pie(data,labels=labels,autopct='%1.1f%%', textprops={'fontsize': 18})\n",
        "plt.title('How would you rate yourself as a computer user?', y=1.1, size=20)\n",
        "plt.axis('equal')\n",
        "plt.show()"
      ],
      "execution_count": null,
      "outputs": []
    },
    {
      "cell_type": "markdown",
      "metadata": {
        "id": "a4RcDLpOAE-3"
      },
      "source": [
        "### Previous RS use"
      ]
    },
    {
      "cell_type": "code",
      "metadata": {
        "id": "A38IpZG4AHiQ"
      },
      "source": [
        "seriesObj = wikiaspects_results.apply(lambda x: True if x['Q6'] == 1 else False , axis=1)\n",
        "yes = len(seriesObj[seriesObj == True].index)\n",
        "seriesObj = wikiaspects_results.apply(lambda x: True if x['Q6'] == 2 else False , axis=1)\n",
        "no = len(seriesObj[seriesObj == True].index)\n",
        "seriesObj = wikiaspects_results.apply(lambda x: True if x['Q6'] == 3 else False , axis=1)\n",
        "maybe = len(seriesObj[seriesObj == True].index)\n",
        "\n",
        "data = [yes, no, maybe]\n",
        "labels = ['Yes', 'No', 'Maybe']\n",
        "\n",
        "figure(figsize=(8, 6), dpi=80)\n",
        "plt.pie(data,labels=labels,autopct='%1.1f%%', textprops={'fontsize': 18})\n",
        "plt.title('Have you ever used a recommender system before?', y=1.1, size=20)\n",
        "plt.axis('equal')\n",
        "plt.show()"
      ],
      "execution_count": null,
      "outputs": []
    },
    {
      "cell_type": "markdown",
      "metadata": {
        "id": "X7zYQjlOBv5m"
      },
      "source": [
        "### DA use frequency"
      ]
    },
    {
      "cell_type": "code",
      "metadata": {
        "id": "K3cZSl1eB0kT"
      },
      "source": [
        "seriesObj = wikiaspects_results.apply(lambda x: True if x['Q7'] == 1 else False , axis=1)\n",
        "never = len(seriesObj[seriesObj == True].index)\n",
        "seriesObj = wikiaspects_results.apply(lambda x: True if x['Q7'] == 2 else False , axis=1)\n",
        "v_inf = len(seriesObj[seriesObj == True].index)\n",
        "seriesObj = wikiaspects_results.apply(lambda x: True if x['Q7'] == 3 else False , axis=1)\n",
        "inf = len(seriesObj[seriesObj == True].index)\n",
        "seriesObj = wikiaspects_results.apply(lambda x: True if x['Q7'] == 4 else False , axis=1)\n",
        "mod = len(seriesObj[seriesObj == True].index)\n",
        "seriesObj = wikiaspects_results.apply(lambda x: True if x['Q7'] == 5 else False , axis=1)\n",
        "daily = len(seriesObj[seriesObj == True].index)\n",
        "\n",
        "data = [never, v_inf, inf, mod, daily]\n",
        "labels = ['Never', 'Very Infrequently', 'Infrequently', 'Moderately', 'Regularly']\n",
        "\n",
        "figure(figsize=(8, 6), dpi=80)\n",
        "plt.pie(data,labels=labels,autopct='%1.1f%%', textprops={'fontsize': 14})\n",
        "plt.title('How frequently have you used conversational agents \\n and digital assistants?', y=1.1, size=20)\n",
        "plt.axis('equal')\n",
        "plt.show()"
      ],
      "execution_count": null,
      "outputs": []
    },
    {
      "cell_type": "markdown",
      "metadata": {
        "id": "Y_iQZyWXCfoD"
      },
      "source": [
        "### Movie interest"
      ]
    },
    {
      "cell_type": "code",
      "metadata": {
        "id": "GyEaMoKtChXR"
      },
      "source": [
        "seriesObj = wikiaspects_results.apply(lambda x: True if x['Q8'] == 1 else False , axis=1)\n",
        "high = len(seriesObj[seriesObj == True].index)\n",
        "seriesObj = wikiaspects_results.apply(lambda x: True if x['Q8'] == 2 else False , axis=1)\n",
        "medium = len(seriesObj[seriesObj == True].index)\n",
        "\n",
        "data = [high, medium]\n",
        "labels = ['High', 'Medium']\n",
        "\n",
        "figure(figsize=(8, 6), dpi=80)\n",
        "plt.pie(data,labels=labels,autopct='%1.1f%%', textprops={'fontsize': 18})\n",
        "plt.title('How much are you interested in movies?', y=1.1, size=20)\n",
        "plt.axis('equal')\n",
        "plt.show()"
      ],
      "execution_count": null,
      "outputs": []
    },
    {
      "cell_type": "markdown",
      "metadata": {
        "id": "wEfwOSHADQZa"
      },
      "source": [
        "## Comparison"
      ]
    },
    {
      "cell_type": "markdown",
      "metadata": {
        "id": "wHRHPr6oDUwq"
      },
      "source": [
        "### Ease of use"
      ]
    },
    {
      "cell_type": "code",
      "metadata": {
        "id": "rhgAqm1ODYkL"
      },
      "source": [
        "questionnaire_barplot('Q9', 'I became familiar with the recommender system very quickly')"
      ],
      "execution_count": null,
      "outputs": []
    },
    {
      "cell_type": "markdown",
      "metadata": {
        "id": "zjzx2an2F8Er"
      },
      "source": [
        "### Control"
      ]
    },
    {
      "cell_type": "code",
      "metadata": {
        "id": "kuyrDXHJGArj"
      },
      "source": [
        "questionnaire_barplot('Q10', 'I feel in control of expressing my actual preferences')"
      ],
      "execution_count": null,
      "outputs": []
    },
    {
      "cell_type": "markdown",
      "metadata": {
        "id": "dKwlaIrmGOLL"
      },
      "source": [
        "### Interaction adequacy"
      ]
    },
    {
      "cell_type": "code",
      "metadata": {
        "id": "kE5j2AEcGO2C"
      },
      "source": [
        "questionnaire_barplot('Q11', 'I found it easy to tell the system what I like/dislike')"
      ],
      "execution_count": null,
      "outputs": []
    },
    {
      "cell_type": "markdown",
      "metadata": {
        "id": "Gc5dQwy6G8TG"
      },
      "source": [
        "### Recommendation accuracy"
      ]
    },
    {
      "cell_type": "code",
      "metadata": {
        "id": "cI7IokMcG-7M"
      },
      "source": [
        "questionnaire_barplot('Q12', 'The items recommended to me match my interests')"
      ],
      "execution_count": null,
      "outputs": []
    },
    {
      "cell_type": "markdown",
      "metadata": {
        "id": "1FKS-JYfHLt3"
      },
      "source": [
        "### Transparency"
      ]
    },
    {
      "cell_type": "code",
      "metadata": {
        "id": "TR_f8efbHMJ9"
      },
      "source": [
        "questionnaire_barplot('Q13', 'I understood why the items were recommended to me')"
      ],
      "execution_count": null,
      "outputs": []
    },
    {
      "cell_type": "markdown",
      "metadata": {
        "id": "EFJAlBpfHvJ-"
      },
      "source": [
        "### Novelty"
      ]
    },
    {
      "cell_type": "code",
      "metadata": {
        "id": "malunVfcHw7d"
      },
      "source": [
        "questionnaire_barplot('Q14', 'This recommender system helped me discover new products')"
      ],
      "execution_count": null,
      "outputs": []
    },
    {
      "cell_type": "markdown",
      "metadata": {
        "id": "G_sm32mCH-Wn"
      },
      "source": [
        "### Serendipity"
      ]
    },
    {
      "cell_type": "code",
      "metadata": {
        "id": "p5ybSknkIAIV"
      },
      "source": [
        "questionnaire_barplot('Q15', 'This recommender system provided me with unexpected suggestions')"
      ],
      "execution_count": null,
      "outputs": []
    },
    {
      "cell_type": "markdown",
      "metadata": {
        "id": "7EH7eXkRIIaN"
      },
      "source": [
        "### Use intentions"
      ]
    },
    {
      "cell_type": "code",
      "metadata": {
        "id": "o3LO-TE3ILDF"
      },
      "source": [
        "questionnaire_barplot('Q16', 'I will use this recommender again')"
      ],
      "execution_count": null,
      "outputs": []
    },
    {
      "cell_type": "markdown",
      "metadata": {
        "id": "CDPc60i-IWyx"
      },
      "source": [
        "### Interaction adequacy"
      ]
    },
    {
      "cell_type": "code",
      "metadata": {
        "id": "UNqXNbbNIZfO"
      },
      "source": [
        "questionnaire_barplot('Q17', 'It is easy for me to inform the system if I like/dislike the recommended items')"
      ],
      "execution_count": null,
      "outputs": []
    },
    {
      "cell_type": "markdown",
      "metadata": {
        "id": "3gRuvIsKIoG_"
      },
      "source": [
        "### Interface sufficiency"
      ]
    },
    {
      "cell_type": "code",
      "metadata": {
        "id": "_orJs9HZMAzD"
      },
      "source": [
        "questionnaire_barplot('Q18', 'The information provided for the recommended items \\n is sufficient for me to make a purchase/download decision')"
      ],
      "execution_count": null,
      "outputs": []
    },
    {
      "cell_type": "markdown",
      "metadata": {
        "id": "JfPXX8cSMJHr"
      },
      "source": [
        "### Perceived usefulness"
      ]
    },
    {
      "cell_type": "code",
      "metadata": {
        "id": "tKUuPX9EMJUC"
      },
      "source": [
        "questionnaire_barplot('Q19', 'The recommender helped me find the ideal item')"
      ],
      "execution_count": null,
      "outputs": []
    },
    {
      "cell_type": "markdown",
      "metadata": {
        "id": "aevje011MSRn"
      },
      "source": [
        "### Control"
      ]
    },
    {
      "cell_type": "code",
      "metadata": {
        "id": "UvzN8uTaMUuc"
      },
      "source": [
        "question_number = 'Q20'\n",
        "question_title = 'The recommendations get better as I interact with the system'\n",
        "\n",
        "w_q20 = wiki_results.drop(wiki_results[(wiki_results.Q20 == 6)].index)\n",
        "a_q20 = aspects_results.drop(aspects_results[(aspects_results.Q20 == 6)].index)\n",
        "wa_q20 = wikiaspects_results.drop(wikiaspects_results[(wikiaspects_results.Q20 == 6)].index)\n",
        "\n",
        "wiki_mean = 5 - w_q20[question_number].mean()\n",
        "aspects_mean = 5 - a_q20[question_number].mean()\n",
        "wikiaspects_mean = 5 - wa_q20[question_number].mean()\n",
        "mean_data = [wiki_mean, aspects_mean, wikiaspects_mean]\n",
        "\n",
        "mean_labels = ['Wiki', 'Aspects', 'Wiki + Aspects']\n",
        "x_labels = ['0 - Strongly Disagree', ' ', ' ', ' ', '4 - Strongly Agree']\n",
        "\n",
        "figure(figsize=(8, 6), dpi=80)\n",
        "plt.barh(mean_labels,mean_data, color=['#4472C4'])\n",
        "plt.title(question_title, size=20)\n",
        "for index, value in enumerate(mean_data):\n",
        "    plt.text(value-0.5, index, str('%.2f' %value), size=\"20\", color='white')\n",
        "plt.gca().set_xlim([0,4])\n",
        "plt.xticks(ticks=range(0,5), labels=x_labels, rotation='horizontal', size=16)\n",
        "plt.yticks(size=16)\n",
        "plt.gca().spines['right'].set_color('none')\n",
        "plt.gca().spines['top'].set_color('none')\n",
        "plt.gca().spines['top'].set_color('none')\n",
        "plt.show()"
      ],
      "execution_count": null,
      "outputs": []
    },
    {
      "cell_type": "markdown",
      "metadata": {
        "id": "tI3A80ibn_wH"
      },
      "source": [
        "### Interaction adequacy"
      ]
    },
    {
      "cell_type": "code",
      "metadata": {
        "id": "oomfjR6foANE"
      },
      "source": [
        "questionnaire_barplot('Q21', 'It is easy for the recommender to understand what I said')"
      ],
      "execution_count": null,
      "outputs": []
    },
    {
      "cell_type": "markdown",
      "metadata": {
        "id": "DY0IDS_OoWhZ"
      },
      "source": [
        "### Confidence & Trust"
      ]
    },
    {
      "cell_type": "code",
      "metadata": {
        "id": "MJhBoXCaocdm"
      },
      "source": [
        "questionnaire_barplot('Q22', 'The recommender can be trusted')"
      ],
      "execution_count": null,
      "outputs": []
    },
    {
      "cell_type": "markdown",
      "metadata": {
        "id": "B0_BOMGxok4B"
      },
      "source": [
        "### Interaction adequacy"
      ]
    },
    {
      "cell_type": "code",
      "metadata": {
        "id": "ivTXbRs7omuf"
      },
      "source": [
        "questionnaire_barplot('Q23', 'The preferences in my profile correspond \\n to the preferences expressed to the recommender')"
      ],
      "execution_count": null,
      "outputs": []
    },
    {
      "cell_type": "markdown",
      "metadata": {
        "id": "JPwcjEBOoy9p"
      },
      "source": [
        "### Overall satisfaction"
      ]
    },
    {
      "cell_type": "code",
      "metadata": {
        "id": "z6alu9jwo1_b"
      },
      "source": [
        "questionnaire_barplot('Q24', 'Overall, I am satisfied with the recommender')"
      ],
      "execution_count": null,
      "outputs": []
    },
    {
      "cell_type": "markdown",
      "metadata": {
        "id": "fcM02KMxvwEH"
      },
      "source": [
        "## Control mean"
      ]
    },
    {
      "cell_type": "code",
      "metadata": {
        "id": "ovf_5JXzvwpN"
      },
      "source": [
        "wiki_mean = 5 - ((wiki_results['Q10'].mean() + w_q20['Q20'].mean() + wiki_results['Q13'].mean())/3)\n",
        "aspects_mean = 5 - ((aspects_results['Q10'].mean() + a_q20['Q20'].mean() + aspects_results['Q13'].mean())/3)\n",
        "wikiaspects_mean = 5 - ((wikiaspects_results['Q10'].mean() + wa_q20['Q20'].mean() + wikiaspects_results['Q13'].mean())/3)\n",
        "mean_data = [wiki_mean, aspects_mean, wikiaspects_mean]\n",
        "\n",
        "mean_labels = ['Wiki', 'Aspects', 'Wiki + Aspects']\n",
        "x_labels = ['Strongly Disagree', ' ', ' ', ' ', 'Strongly Agree']\n",
        "\n",
        "figure(figsize=(8, 6), dpi=80)\n",
        "plt.barh(mean_labels,mean_data, color=['#4472C4'])\n",
        "plt.title('Control mean answers', size=20)\n",
        "for index, value in enumerate(mean_data):\n",
        "    plt.text(value-0.5, index, str('%.2f' %value), size=\"20\", color='white')\n",
        "plt.gca().set_xlim([0,4])\n",
        "plt.xticks(ticks=range(0,5), labels=x_labels, rotation='horizontal', size=16)\n",
        "plt.yticks(size=16)\n",
        "plt.gca().spines['right'].set_color('none')\n",
        "plt.gca().spines['top'].set_color('none')\n",
        "plt.gca().spines['top'].set_color('none')\n",
        "plt.show()"
      ],
      "execution_count": null,
      "outputs": []
    },
    {
      "cell_type": "markdown",
      "metadata": {
        "id": "gxoRDF60xMR2"
      },
      "source": [
        "## Interaction adequacy mean"
      ]
    },
    {
      "cell_type": "code",
      "metadata": {
        "id": "CSGWbeA9xRO2"
      },
      "source": [
        "wiki_mean = 5 - ((wiki_results['Q11'].mean() + wiki_results['Q17'].mean() + wiki_results['Q21'].mean() + wiki_results['Q23'].mean())/4)\n",
        "aspects_mean = 5 - ((aspects_results['Q11'].mean() + aspects_results['Q17'].mean() + aspects_results['Q21'].mean() + aspects_results['Q23'].mean())/4)\n",
        "wikiaspects_mean = 5 - ((wikiaspects_results['Q11'].mean() + wikiaspects_results['Q17'].mean() + wikiaspects_results['Q21'].mean() + wikiaspects_results['Q23'].mean())/4)\n",
        "mean_data = [wiki_mean, aspects_mean, wikiaspects_mean]\n",
        "\n",
        "mean_labels = ['Wiki', 'Aspects', 'Wiki + Aspects']\n",
        "x_labels = ['Strongly Disagree', ' ', ' ', ' ', 'Strongly Agree']\n",
        "\n",
        "figure(figsize=(8, 6), dpi=80)\n",
        "plt.barh(mean_labels,mean_data, color=['#4472C4'])\n",
        "plt.title('Interaction adequacy mean answers', size=20)\n",
        "for index, value in enumerate(mean_data):\n",
        "    plt.text(value-0.5, index, str('%.2f' %value), size=\"20\", color='white')\n",
        "plt.gca().set_xlim([0,4])\n",
        "plt.xticks(ticks=range(0,5), labels=x_labels, rotation='horizontal', size=16)\n",
        "plt.yticks(size=16)\n",
        "plt.gca().spines['right'].set_color('none')\n",
        "plt.gca().spines['top'].set_color('none')\n",
        "plt.gca().spines['top'].set_color('none')\n",
        "plt.show()"
      ],
      "execution_count": null,
      "outputs": []
    },
    {
      "cell_type": "markdown",
      "metadata": {
        "id": "8RNyt-q5C8mm"
      },
      "source": [
        "## Attitudes mean"
      ]
    },
    {
      "cell_type": "code",
      "metadata": {
        "id": "B-8GE0F5C_AF"
      },
      "source": [
        "wiki_mean = 5 - ((wiki_results['Q22'].mean() + wiki_results['Q24'].mean())/2)\n",
        "aspects_mean = 5 - ((aspects_results['Q22'].mean() + aspects_results['Q24'].mean())/2)\n",
        "wikiaspects_mean = 5 - ((wikiaspects_results['Q22'].mean() + wikiaspects_results['Q24'].mean())/2)\n",
        "mean_data = [wiki_mean, aspects_mean, wikiaspects_mean]\n",
        "\n",
        "mean_labels = ['Wiki', 'Aspects', 'Wiki + Aspects']\n",
        "x_labels = ['Strongly Disagree', ' ', ' ', ' ', 'Strongly Agree']\n",
        "\n",
        "figure(figsize=(8, 6), dpi=80)\n",
        "plt.barh(mean_labels,mean_data, color=['#4472C4'])\n",
        "plt.title('Attitudes mean answers', size=20)\n",
        "for index, value in enumerate(mean_data):\n",
        "    plt.text(value-0.5, index, str('%.2f' %value), size=\"20\", color='white')\n",
        "plt.gca().set_xlim([0,4])\n",
        "plt.xticks(ticks=range(0,5), labels=x_labels, rotation='horizontal', size=16)\n",
        "plt.yticks(size=16)\n",
        "plt.gca().spines['right'].set_color('none')\n",
        "plt.gca().spines['top'].set_color('none')\n",
        "plt.gca().spines['top'].set_color('none')\n",
        "plt.show()"
      ],
      "execution_count": null,
      "outputs": []
    },
    {
      "cell_type": "markdown",
      "metadata": {
        "id": "wMjIDk0gxdma"
      },
      "source": [
        "# McNemar"
      ]
    },
    {
      "cell_type": "code",
      "metadata": {
        "id": "tvQjalMXxTpl"
      },
      "source": [
        "from statsmodels.stats.contingency_tables import mcnemar\n",
        "\n",
        "def get_contingency_table(conf1, conf2, metric):\n",
        "    cont_table = [[0, 0], [0, 0]]\n",
        "    user_ids = []\n",
        "    for i, row in conf1.iterrows():\n",
        "        user_ids.append(row[\"user_id\"])\n",
        "    for user_id in user_ids:\n",
        "        row1 = conf1.loc[conf1[\"user_id\"] == user_id]\n",
        "        row2 = conf2.loc[conf2[\"user_id\"] == user_id]\n",
        "        cont_table[int(row1[metric])][int(row2[metric])] += 1\n",
        "    return cont_table\n",
        "\n",
        "def mcnemar_test(conf1, conf2, metric):\n",
        "    cont_table = get_contingency_table(conf1, conf2, metric)\n",
        "    return mcnemar(cont_table, exact=False, correction=False)"
      ],
      "execution_count": null,
      "outputs": []
    },
    {
      "cell_type": "code",
      "metadata": {
        "id": "F4tbiLzNxdM5"
      },
      "source": [
        "print(mcnemar_test(wiki_results, aspects_results, \"HitRate_3\"))"
      ],
      "execution_count": null,
      "outputs": []
    },
    {
      "cell_type": "markdown",
      "metadata": {
        "id": "7CAuPJAUsPIb"
      },
      "source": [
        "# Wilcoxon"
      ]
    },
    {
      "cell_type": "code",
      "metadata": {
        "id": "-hwkcB8yucd7"
      },
      "source": [
        "group_a = wiki_results.drop(wikiaspects_results[( (wikiaspects_results.Q8 == 2))].index)\n",
        "group_a_ids = group_a['user_id'].tolist()\n",
        "\n",
        "wiki_res_a = wiki_results[wiki_results.user_id.isin(group_a_ids)]\n",
        "aspects_res_a = aspects_results[aspects_results.user_id.isin(group_a_ids)]\n",
        "wikiaspects_res_a = wikiaspects_results[wikiaspects_results.user_id.isin(group_a_ids)]\n",
        "\n",
        "confs_a = [wiki_res_a, aspects_res_a, wikiaspects_res_a]"
      ],
      "execution_count": null,
      "outputs": []
    },
    {
      "cell_type": "code",
      "metadata": {
        "id": "uyuchThcvRxr"
      },
      "source": [
        "group_b = wiki_results.drop(wikiaspects_results[( (wikiaspects_results.Q8 == 1))].index)\n",
        "group_b_ids = group_b['user_id'].tolist()\n",
        "\n",
        "wiki_res_b = wiki_results[wiki_results.user_id.isin(group_b_ids)]\n",
        "aspects_res_b = aspects_results[aspects_results.user_id.isin(group_b_ids)]\n",
        "wikiaspects_res_b = wikiaspects_results[wikiaspects_results.user_id.isin(group_b_ids)]\n",
        "\n",
        "confs_b = [wiki_res_b, aspects_res_b, wikiaspects_res_b]"
      ],
      "execution_count": null,
      "outputs": []
    },
    {
      "cell_type": "code",
      "metadata": {
        "id": "PvvzS2g3sTxB"
      },
      "source": [
        "from scipy.stats import wilcoxon\n",
        "\n",
        "confs = [wiki_results, aspects_results, wikiaspects_results]\n",
        "conf_names = [\"wiki\", \"aspect\", \"wikiaspect\"]\n",
        "\n",
        "metrics_int = [\"QueryDensity\", \"prefsCount\", \"control_mean\", \"int_adequacy_mean\", \"attitudes_mean\"]                                                                     \n",
        "metrics_acc = [\"HitRate_1\", \"HitRate_3\"]                                                                                   \n",
        "questions = [\"Q9\", \"Q10\", \"Q11\", \"Q12\", \"Q13\", \"Q14\", \"Q15\", \"Q16\", \"Q17\", \"Q18\", \"Q19\", \"Q20\", \"Q21\", \"Q22\", \"Q23\", \"Q24\"]\n",
        "\n",
        "\n",
        "# This string contains the following information:\n",
        "# <configuration 1 name>,<configuration 2 name>,<metric name>,<p-value>,<number of degrees of freedom>\n",
        "csv = \"\"\n",
        "\n",
        "# For each metric\n",
        "for metric in metrics_int:\n",
        "    # For each pair of configurations calculate the statistical test\n",
        "    for i in range(len(confs)):\n",
        "        for j in range(i + 1, len(confs)):\n",
        "            confi_int = confs[i]\n",
        "            confj_int = confs[j]\n",
        "            confi_metric = confi_int[metric]\n",
        "            confj_metric = confj_int[metric]\n",
        "            ttest = wilcoxon(confi_metric, confj_metric)                    # Calculate the test\n",
        "            df = confi_metric.shape[0] + confj_metric.shape[0] - 2\n",
        "            csv += conf_names[i] + \",\" + conf_names[j] + \",\" + metric + \",\" + str(ttest.pvalue) + \",\" + str(ttest.statistic) + \",\" + str(df) + \"\\n\"\n",
        "\n",
        "# For each metric\n",
        "for metric in metrics_acc:\n",
        "    # For each pair of configurations calculate the statistical test\n",
        "    for i in range(len(confs)):\n",
        "        for j in range(i + 1, len(confs)):\n",
        "            wiki_acc = confs[i]\n",
        "            aspects_acc = confs[j]\n",
        "            wiki_metric = wiki_acc[metric]\n",
        "            aspects_metric = aspects_acc[metric]\n",
        "            ttest = wilcoxon(wiki_metric, aspects_metric)                    # Calculate the test\n",
        "            df = wiki_metric.shape[0] + aspects_metric.shape[0] - 2\n",
        "            csv += conf_names[i] + \",\" + conf_names[j] + \",\" + metric + \",\" + str(ttest.pvalue) + \",\" + str(ttest.statistic) + \",\" + str(df) + \"\\n\"\n",
        "\n",
        "# For each question\n",
        "for metric in questions:\n",
        "    # For each pair of configurations calculate the statistical test\n",
        "    for i in range(len(confs)):\n",
        "        for j in range(i + 1, len(confs)):\n",
        "            confi_q = confs[i]\n",
        "            confj_q = confs[j]\n",
        "            confi_metric = confi_q[metric]\n",
        "            wiki_metric = wiki_metric[wiki_metric != 0]                     # Remove answers with ID 0\n",
        "            wiki_metric = wiki_metric[wiki_metric != 6]                     # Remove answers with ID 6\n",
        "            confj_metric = confj_q[metric]\n",
        "            aspects_metric = aspects_metric[aspects_metric != 0]            # Remove answers with ID 0\n",
        "            aspects_metric = aspects_metric[aspects_metric != 6]            # Remove answers with ID 6\n",
        "            ttest = wilcoxon(confi_metric, confj_metric)                    # Calculate the test\n",
        "            df = confi_metric.shape[0] + confj_metric.shape[0] - 2\n",
        "            csv += conf_names[i] + \",\" + conf_names[j] + \",\" + metric + \",\" + str(ttest.pvalue) + \",\" + str(ttest.statistic) + \",\" + str(df) + \"\\n\"\n",
        "\n",
        "\n",
        "text_file = open(\"test_output.txt\", \"w\")\n",
        "text_file.write(csv)\n",
        "text_file.close()\n",
        "\n",
        "\n",
        "test_output = pd.read_csv(\"test_output.txt\", names =['configuration 1 name', 'configuration 2 name', 'metric name', 'p_value', 'statistic', 'number of degrees of freedom'], index_col=None, header=None)\n",
        "test_output.to_csv('test_output.txt', sep='|', index=None)\n",
        "\n",
        "\n",
        "p_value_ok = test_output.drop(test_output[(test_output.p_value > 0.05)].index)\n",
        "p_value_ok.to_csv('p_value.txt', sep='|', index=None)\n",
        "\n",
        "pd.set_option('max_columns', None)\n",
        "pd.set_option('max_rows', None)\n",
        "\n",
        "p_value_ok.head(n=100)"
      ],
      "execution_count": null,
      "outputs": []
    }
  ]
}